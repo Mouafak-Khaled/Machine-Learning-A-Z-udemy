{
  "nbformat": 4,
  "nbformat_minor": 0,
  "metadata": {
    "colab": {
      "name": "Support-Vector-Regression.ipynb",
      "provenance": []
    },
    "kernelspec": {
      "name": "python3",
      "display_name": "Python 3"
    },
    "language_info": {
      "name": "python"
    }
  },
  "cells": [
    {
      "cell_type": "markdown",
      "metadata": {
        "id": "_ffIUBXw6UJs"
      },
      "source": [
        "##Importing Libraries"
      ]
    },
    {
      "cell_type": "code",
      "metadata": {
        "id": "5xUqRC1v6AQn"
      },
      "source": [
        "import pandas as pd\n",
        "import numpy as np\n",
        "import matplotlib.pyplot as plt"
      ],
      "execution_count": 72,
      "outputs": []
    },
    {
      "cell_type": "markdown",
      "metadata": {
        "id": "J560h-XD6Y28"
      },
      "source": [
        "##Importing Dataset"
      ]
    },
    {
      "cell_type": "code",
      "metadata": {
        "id": "uzKdJZXf6bSk"
      },
      "source": [
        "dataset = pd.read_csv(\"Position_Salaries.csv\")\n",
        "X = dataset.iloc[:, 1:-1].values\n",
        "y = dataset.iloc[:, -1].values\n",
        "y = y.reshape(len(y), 1)"
      ],
      "execution_count": 73,
      "outputs": []
    },
    {
      "cell_type": "code",
      "metadata": {
        "colab": {
          "base_uri": "https://localhost:8080/"
        },
        "id": "p6iP-DaI60Yx",
        "outputId": "f06c44d4-bd77-4707-c771-8799a74bcf68"
      },
      "source": [
        "print(X)"
      ],
      "execution_count": 74,
      "outputs": [
        {
          "output_type": "stream",
          "text": [
            "[[ 1]\n",
            " [ 2]\n",
            " [ 3]\n",
            " [ 4]\n",
            " [ 5]\n",
            " [ 6]\n",
            " [ 7]\n",
            " [ 8]\n",
            " [ 9]\n",
            " [10]]\n"
          ],
          "name": "stdout"
        }
      ]
    },
    {
      "cell_type": "code",
      "metadata": {
        "colab": {
          "base_uri": "https://localhost:8080/"
        },
        "id": "IoaLJ6vd64BV",
        "outputId": "d5e9cdfe-b735-45bf-a3bd-09c43c27b77e"
      },
      "source": [
        "print(y)"
      ],
      "execution_count": 75,
      "outputs": [
        {
          "output_type": "stream",
          "text": [
            "[[  45000]\n",
            " [  50000]\n",
            " [  60000]\n",
            " [  80000]\n",
            " [ 110000]\n",
            " [ 150000]\n",
            " [ 200000]\n",
            " [ 300000]\n",
            " [ 500000]\n",
            " [1000000]]\n"
          ],
          "name": "stdout"
        }
      ]
    },
    {
      "cell_type": "markdown",
      "metadata": {
        "id": "ZUkGx-Xg7ILq"
      },
      "source": [
        "##Feature Scaling"
      ]
    },
    {
      "cell_type": "code",
      "metadata": {
        "id": "coYa7KDl7K0w"
      },
      "source": [
        "from sklearn.preprocessing import StandardScaler\n",
        "x_sc = StandardScaler()\n",
        "y_sc = StandardScaler()\n",
        "X = x_sc.fit_transform(X)\n",
        "y = y_sc.fit_transform(y)"
      ],
      "execution_count": 76,
      "outputs": []
    },
    {
      "cell_type": "code",
      "metadata": {
        "colab": {
          "base_uri": "https://localhost:8080/"
        },
        "id": "7_tFwRYR_ABP",
        "outputId": "f6382dc2-b752-4a01-99dc-c76b2834fe3c"
      },
      "source": [
        "print(X)"
      ],
      "execution_count": 77,
      "outputs": [
        {
          "output_type": "stream",
          "text": [
            "[[-1.5666989 ]\n",
            " [-1.21854359]\n",
            " [-0.87038828]\n",
            " [-0.52223297]\n",
            " [-0.17407766]\n",
            " [ 0.17407766]\n",
            " [ 0.52223297]\n",
            " [ 0.87038828]\n",
            " [ 1.21854359]\n",
            " [ 1.5666989 ]]\n"
          ],
          "name": "stdout"
        }
      ]
    },
    {
      "cell_type": "code",
      "metadata": {
        "colab": {
          "base_uri": "https://localhost:8080/"
        },
        "id": "yaf7zDR8_MJ_",
        "outputId": "6e1b6684-4b05-4861-9df9-36386a235928"
      },
      "source": [
        "print(y)"
      ],
      "execution_count": 78,
      "outputs": [
        {
          "output_type": "stream",
          "text": [
            "[[-0.72004253]\n",
            " [-0.70243757]\n",
            " [-0.66722767]\n",
            " [-0.59680786]\n",
            " [-0.49117815]\n",
            " [-0.35033854]\n",
            " [-0.17428902]\n",
            " [ 0.17781001]\n",
            " [ 0.88200808]\n",
            " [ 2.64250325]]\n"
          ],
          "name": "stdout"
        }
      ]
    },
    {
      "cell_type": "markdown",
      "metadata": {
        "id": "O2B9mPuS_cut"
      },
      "source": [
        "##Training The SVR model on The Whole Dataset"
      ]
    },
    {
      "cell_type": "code",
      "metadata": {
        "colab": {
          "base_uri": "https://localhost:8080/"
        },
        "id": "EVi-P6Bf_jXO",
        "outputId": "e221b584-2ee0-486b-e15a-2f08b6396728"
      },
      "source": [
        "from sklearn.svm import SVR\n",
        "svr_regressor = SVR(kernel='rbf') # using Radial Base Function as a kernel\n",
        "svr_regressor.fit(X, y)"
      ],
      "execution_count": 79,
      "outputs": [
        {
          "output_type": "stream",
          "text": [
            "/usr/local/lib/python3.7/dist-packages/sklearn/utils/validation.py:760: DataConversionWarning: A column-vector y was passed when a 1d array was expected. Please change the shape of y to (n_samples, ), for example using ravel().\n",
            "  y = column_or_1d(y, warn=True)\n"
          ],
          "name": "stderr"
        },
        {
          "output_type": "execute_result",
          "data": {
            "text/plain": [
              "SVR(C=1.0, cache_size=200, coef0=0.0, degree=3, epsilon=0.1, gamma='scale',\n",
              "    kernel='rbf', max_iter=-1, shrinking=True, tol=0.001, verbose=False)"
            ]
          },
          "metadata": {
            "tags": []
          },
          "execution_count": 79
        }
      ]
    },
    {
      "cell_type": "markdown",
      "metadata": {
        "id": "Ll4xE_4KAZU4"
      },
      "source": [
        "##Predict a New Point"
      ]
    },
    {
      "cell_type": "code",
      "metadata": {
        "colab": {
          "base_uri": "https://localhost:8080/"
        },
        "id": "TwE5Tl7HAeha",
        "outputId": "5dd2c1f8-8b00-490c-f58c-04c8cc6ec284"
      },
      "source": [
        "y_pred = y_sc.inverse_transform(svr_regressor.predict(x_sc.transform([[6.5]])))\n",
        "print(\"The predicted salary for a scaled level of 6.5 is \", y_pred[0])"
      ],
      "execution_count": 80,
      "outputs": [
        {
          "output_type": "stream",
          "text": [
            "The predicted salary for a scaled level of 6.5 is  170370.02040650236\n"
          ],
          "name": "stdout"
        }
      ]
    },
    {
      "cell_type": "markdown",
      "metadata": {
        "id": "c3v3seVhAoOz"
      },
      "source": [
        "##Visualizing The SVR Results"
      ]
    },
    {
      "cell_type": "code",
      "metadata": {
        "colab": {
          "base_uri": "https://localhost:8080/",
          "height": 294
        },
        "id": "g8SE7VO4Al_9",
        "outputId": "bdc97d15-8e11-4468-af14-4b7861b82c9b"
      },
      "source": [
        "plt.scatter(x_sc.inverse_transform(X), y_sc.inverse_transform(y), color=\"red\")\n",
        "plt.plot(x_sc.inverse_transform(X), y_sc.inverse_transform(svr_regressor.predict(X)))\n",
        "plt.title(\"Truth or Bluff (Support Vector Regression\")\n",
        "plt.xlabel(\"Position Level\")\n",
        "plt.ylabel(\"Salary\")\n",
        "plt.show()"
      ],
      "execution_count": 84,
      "outputs": [
        {
          "output_type": "display_data",
          "data": {
            "image/png": "[encoded data removed]",
            "text/plain": [
              "<Figure size 432x288 with 1 Axes>"
            ]
          },
          "metadata": {
            "tags": [],
            "needs_background": "light"
          }
        }
      ]
    },
    {
      "cell_type": "markdown",
      "metadata": {
        "id": "sfIC9YsSHnw2"
      },
      "source": [
        "##Visualizing The SVR Results for Higher Resolution and Smoother Curve"
      ]
    },
    {
      "cell_type": "code",
      "metadata": {
        "colab": {
          "base_uri": "https://localhost:8080/",
          "height": 294
        },
        "id": "c7KYuCSYGWJZ",
        "outputId": "6fe9edba-9f6a-4822-d072-0eb3c02ea9fa"
      },
      "source": [
        "X_grid = np.arange(min(x_sc.inverse_transform(X)), max(x_sc.inverse_transform(X)), 0.1)\n",
        "X_grid = np.reshape(X_grid, (len(X_grid), 1))\n",
        "plt.scatter(x_sc.inverse_transform(X), y_sc.inverse_transform(y), color=\"red\")\n",
        "plt.plot(X_grid, y_sc.inverse_transform(svr_regressor.predict(x_sc.transform(X_grid))))\n",
        "plt.title(\"Truth or Bluff (Support Vector Regression\")\n",
        "plt.xlabel(\"Position Level\")\n",
        "plt.ylabel(\"Salary\")\n",
        "plt.show()"
      ],
      "execution_count": 86,
      "outputs": [
        {
          "output_type": "display_data",
          "data": {
            "image/png": "[encoded data removed]",
            "text/plain": [
              "<Figure size 432x288 with 1 Axes>"
            ]
          },
          "metadata": {
            "tags": [],
            "needs_background": "light"
          }
        }
      ]
    }
  ]
}