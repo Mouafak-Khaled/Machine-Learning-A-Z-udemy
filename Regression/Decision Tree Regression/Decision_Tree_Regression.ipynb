{
  "nbformat": 4,
  "nbformat_minor": 0,
  "metadata": {
    "colab": {
      "name": "Decision-Tree-Regression.ipynb",
      "provenance": []
    },
    "kernelspec": {
      "name": "python3",
      "display_name": "Python 3"
    },
    "language_info": {
      "name": "python"
    }
  },
  "cells": [
    {
      "cell_type": "markdown",
      "metadata": {
        "id": "_ffIUBXw6UJs"
      },
      "source": [
        "##Importing Libraries"
      ]
    },
    {
      "cell_type": "code",
      "metadata": {
        "id": "5xUqRC1v6AQn"
      },
      "source": [
        "import pandas as pd\n",
        "import numpy as np\n",
        "import matplotlib.pyplot as plt"
      ],
      "execution_count": 98,
      "outputs": []
    },
    {
      "cell_type": "markdown",
      "metadata": {
        "id": "J560h-XD6Y28"
      },
      "source": [
        "##Importing Dataset"
      ]
    },
    {
      "cell_type": "code",
      "metadata": {
        "id": "uzKdJZXf6bSk"
      },
      "source": [
        "dataset = pd.read_csv(\"Position_Salaries.csv\")\n",
        "X = dataset.iloc[:, 1:-1].values\n",
        "y = dataset.iloc[:, -1].values\n",
        "y = y.reshape(len(y), 1)"
      ],
      "execution_count": 99,
      "outputs": []
    },
    {
      "cell_type": "code",
      "metadata": {
        "colab": {
          "base_uri": "https://localhost:8080/"
        },
        "id": "p6iP-DaI60Yx",
        "outputId": "7e9ff309-2539-4276-8849-b09f4a331b2c"
      },
      "source": [
        "print(X)"
      ],
      "execution_count": 100,
      "outputs": [
        {
          "output_type": "stream",
          "text": [
            "[[ 1]\n",
            " [ 2]\n",
            " [ 3]\n",
            " [ 4]\n",
            " [ 5]\n",
            " [ 6]\n",
            " [ 7]\n",
            " [ 8]\n",
            " [ 9]\n",
            " [10]]\n"
          ],
          "name": "stdout"
        }
      ]
    },
    {
      "cell_type": "code",
      "metadata": {
        "colab": {
          "base_uri": "https://localhost:8080/"
        },
        "id": "IoaLJ6vd64BV",
        "outputId": "efa3e326-8dc7-4283-addd-009d96fd457e"
      },
      "source": [
        "print(y)"
      ],
      "execution_count": 101,
      "outputs": [
        {
          "output_type": "stream",
          "text": [
            "[[  45000]\n",
            " [  50000]\n",
            " [  60000]\n",
            " [  80000]\n",
            " [ 110000]\n",
            " [ 150000]\n",
            " [ 200000]\n",
            " [ 300000]\n",
            " [ 500000]\n",
            " [1000000]]\n"
          ],
          "name": "stdout"
        }
      ]
    },
    {
      "cell_type": "markdown",
      "metadata": {
        "id": "O2B9mPuS_cut"
      },
      "source": [
        "##Training The Dicision Tree Regression on The Whole Dataset"
      ]
    },
    {
      "cell_type": "code",
      "metadata": {
        "colab": {
          "base_uri": "https://localhost:8080/"
        },
        "id": "EVi-P6Bf_jXO",
        "outputId": "89788d95-0a0d-4388-9232-ed42f37e5981"
      },
      "source": [
        "from sklearn.tree import DecisionTreeRegressor\n",
        "DT_regressor = DecisionTreeRegressor(random_state = 0)\n",
        "DT_regressor.fit(X, y)"
      ],
      "execution_count": 102,
      "outputs": [
        {
          "output_type": "execute_result",
          "data": {
            "text/plain": [
              "DecisionTreeRegressor(ccp_alpha=0.0, criterion='mse', max_depth=None,\n",
              "                      max_features=None, max_leaf_nodes=None,\n",
              "                      min_impurity_decrease=0.0, min_impurity_split=None,\n",
              "                      min_samples_leaf=1, min_samples_split=2,\n",
              "                      min_weight_fraction_leaf=0.0, presort='deprecated',\n",
              "                      random_state=0, splitter='best')"
            ]
          },
          "metadata": {
            "tags": []
          },
          "execution_count": 102
        }
      ]
    },
    {
      "cell_type": "markdown",
      "metadata": {
        "id": "Ll4xE_4KAZU4"
      },
      "source": [
        "##Predict a New Point"
      ]
    },
    {
      "cell_type": "code",
      "metadata": {
        "colab": {
          "base_uri": "https://localhost:8080/"
        },
        "id": "TwE5Tl7HAeha",
        "outputId": "032b08f0-de60-4fad-d224-fc904b66362a"
      },
      "source": [
        "y_pred = DT_regressor.predict([[6.5]])\n",
        "print(\"The predicted salary for a level of 6.5 is \", y_pred[0])"
      ],
      "execution_count": 103,
      "outputs": [
        {
          "output_type": "stream",
          "text": [
            "The predicted salary for a level of 6.5 is  150000.0\n"
          ],
          "name": "stdout"
        }
      ]
    },
    {
      "cell_type": "markdown",
      "metadata": {
        "id": "sfIC9YsSHnw2"
      },
      "source": [
        "##Visualizing The Decision Tree Regression Results for Higher Resolution"
      ]
    },
    {
      "cell_type": "code",
      "metadata": {
        "colab": {
          "base_uri": "https://localhost:8080/",
          "height": 294
        },
        "id": "c7KYuCSYGWJZ",
        "outputId": "2a9224fd-eefd-413c-b8dc-08a33af11165"
      },
      "source": [
        "X_grid = np.arange(min(X), max(X), 0.1)\n",
        "X_grid = np.reshape(X_grid, (len(X_grid), 1))\n",
        "plt.scatter(X, y, color=\"red\")\n",
        "plt.plot(X_grid, DT_regressor.predict(X_grid))\n",
        "plt.title(\"Truth or Bluff (Decision Tree Regression)\")\n",
        "plt.xlabel(\"Position Level\")\n",
        "plt.ylabel(\"Salary\")\n",
        "plt.show()"
      ],
      "execution_count": 104,
      "outputs": [
        {
          "output_type": "display_data",
          "data": {
            "image/png": "[encoded data removed]",
            "text/plain": [
              "<Figure size 432x288 with 1 Axes>"
            ]
          },
          "metadata": {
            "tags": [],
            "needs_background": "light"
          }
        }
      ]
    }
  ]
}